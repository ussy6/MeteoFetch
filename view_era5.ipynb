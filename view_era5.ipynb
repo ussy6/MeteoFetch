{
 "cells": [
  {
   "cell_type": "code",
   "execution_count": 5,
   "id": "3342415f",
   "metadata": {},
   "outputs": [],
   "source": [
    "import numpy as np\n",
    "import netCDF4"
   ]
  },
  {
   "cell_type": "code",
   "execution_count": 6,
   "id": "3f4b4722",
   "metadata": {},
   "outputs": [],
   "source": [
    "nc = netCDF4.Dataset('surface_geopotential.nc')\n",
    "# nc = netCDF4.Dataset('nc/harutori_srf_201001hour.nc')"
   ]
  },
  {
   "cell_type": "code",
   "execution_count": 7,
   "id": "f5ee676e",
   "metadata": {},
   "outputs": [
    {
     "data": {
      "text/plain": [
       "masked_array(data=[144.25, 144.5 ],\n",
       "             mask=False,\n",
       "       fill_value=1e+20)"
      ]
     },
     "execution_count": 7,
     "metadata": {},
     "output_type": "execute_result"
    }
   ],
   "source": [
    "lon = nc['longitude'][:]\n",
    "lon[(144.25 <= lon) & (lon <= 144.5)]"
   ]
  },
  {
   "cell_type": "code",
   "execution_count": 8,
   "id": "5bf8131e",
   "metadata": {},
   "outputs": [
    {
     "data": {
      "text/plain": [
       "masked_array(data=[43.  , 42.75],\n",
       "             mask=False,\n",
       "       fill_value=1e+20)"
      ]
     },
     "execution_count": 8,
     "metadata": {},
     "output_type": "execute_result"
    }
   ],
   "source": [
    "lat = nc['latitude'][:]\n",
    "lat[(42.75 <= lat) & (lat <= 43)]"
   ]
  }
 ],
 "metadata": {
  "kernelspec": {
   "display_name": "3.13.1",
   "language": "python",
   "name": "python3"
  },
  "language_info": {
   "codemirror_mode": {
    "name": "ipython",
    "version": 3
   },
   "file_extension": ".py",
   "mimetype": "text/x-python",
   "name": "python",
   "nbconvert_exporter": "python",
   "pygments_lexer": "ipython3",
   "version": "3.13.1"
  }
 },
 "nbformat": 4,
 "nbformat_minor": 5
}
