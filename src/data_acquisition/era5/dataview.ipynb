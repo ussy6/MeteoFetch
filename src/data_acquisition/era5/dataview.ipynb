{
 "cells": [
  {
   "cell_type": "code",
   "execution_count": 1,
   "id": "6afa2429",
   "metadata": {},
   "outputs": [
    {
     "name": "stdout",
     "output_type": "stream",
     "text": [
      "/mnt/c/Users/seppyo-kagaku_5/Desktop/湖氷プログラム/new/src/data_acquisition/era5\n",
      "/mnt/c/Users/seppyo-kagaku_5/Desktop/湖氷プログラム/new\n"
     ]
    }
   ],
   "source": [
    "import os\n",
    "print(os.getcwd() )\n",
    "os.chdir('../../../')\n",
    "print(os.getcwd())"
   ]
  },
  {
   "cell_type": "code",
   "execution_count": 2,
   "id": "7571a17e",
   "metadata": {},
   "outputs": [],
   "source": [
    "import numpy as np\n",
    "import netCDF4"
   ]
  },
  {
   "cell_type": "code",
   "execution_count": 3,
   "id": "03fc6b54",
   "metadata": {},
   "outputs": [],
   "source": [
    "nc = netCDF4.Dataset('./Harutori/Harutori200001h.nc')"
   ]
  },
  {
   "cell_type": "code",
   "execution_count": 4,
   "id": "b6bd476b",
   "metadata": {},
   "outputs": [
    {
     "data": {
      "text/plain": [
       "<class 'netCDF4.Dataset'>\n",
       "root group (NETCDF4 data model, file format HDF5):\n",
       "    GRIB_centre: ecmf\n",
       "    GRIB_centreDescription: European Centre for Medium-Range Weather Forecasts\n",
       "    GRIB_subCentre: 0\n",
       "    Conventions: CF-1.7\n",
       "    institution: European Centre for Medium-Range Weather Forecasts\n",
       "    history: 2025-05-13T06:36 GRIB to CDM+CF via cfgrib-0.9.15.0/ecCodes-2.39.0 with {\"source\": \"tmpgxd9oh50/data.grib\", \"filter_by_keys\": {\"stream\": [\"oper\"], \"stepType\": [\"instant\"]}, \"encode_cf\": [\"parameter\", \"time\", \"geography\", \"vertical\"]}\n",
       "    dimensions(sizes): valid_time(744), latitude(2), longitude(2)\n",
       "    variables(dimensions): int64 number(), int64 valid_time(valid_time), float64 latitude(latitude), float64 longitude(longitude), <class 'str'> expver(valid_time), float32 u10(valid_time, latitude, longitude), float32 v10(valid_time, latitude, longitude), float32 d2m(valid_time, latitude, longitude), float32 t2m(valid_time, latitude, longitude), float32 sp(valid_time, latitude, longitude)\n",
       "    groups: "
      ]
     },
     "execution_count": 4,
     "metadata": {},
     "output_type": "execute_result"
    }
   ],
   "source": [
    "nc"
   ]
  },
  {
   "cell_type": "code",
   "execution_count": 5,
   "id": "36133aa8",
   "metadata": {},
   "outputs": [
    {
     "name": "stdout",
     "output_type": "stream",
     "text": [
      "[144.   144.25 144.5 ]\n",
      "[43.   42.75]\n"
     ]
    }
   ],
   "source": [
    "print(nc['longitude'][:])\n",
    "print(nc['latitude'][:])"
   ]
  }
 ],
 "metadata": {
  "kernelspec": {
   "display_name": "Python 3",
   "language": "python",
   "name": "python3"
  },
  "language_info": {
   "codemirror_mode": {
    "name": "ipython",
    "version": 3
   },
   "file_extension": ".py",
   "mimetype": "text/x-python",
   "name": "python",
   "nbconvert_exporter": "python",
   "pygments_lexer": "ipython3",
   "version": "3.11.1"
  }
 },
 "nbformat": 4,
 "nbformat_minor": 5
}
